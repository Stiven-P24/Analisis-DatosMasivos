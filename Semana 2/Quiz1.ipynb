{
  "nbformat": 4,
  "nbformat_minor": 0,
  "metadata": {
    "colab": {
      "provenance": []
    },
    "kernelspec": {
      "name": "python3",
      "display_name": "Python 3"
    }
  },
  "cells": [
    {
      "cell_type": "markdown",
      "metadata": {
        "id": "FEl4PTK6N_x2"
      },
      "source": [
        "# Quiz 1 - Análisis de datos en Pandas\n",
        "\n",
        "Vamos a trabajar con un conjunto de datos que contiene registros del consumo mundial de alcohol en cada uno de los paises del globo. Este conjunto de datos consta de 5 columnas:\n",
        "\n",
        "* La primera columna contiene el año en que se hizo el registro del dato.\n",
        "* La segunda columna se refiere al lugar donde la bebida fue producida.\n",
        "* La tercera columna se refiere al lugar donde fue consumido la bebida alcohólica.\n",
        "* La cuarta columna se refiere al tipo de bebiba alcohólica cosumida\n",
        "* Y la quinta columa se refiere al promedio anual de consumo de esa bebida.\n"
      ]
    },
    {
      "cell_type": "code",
      "metadata": {
        "id": "_Zr2HeN2RaD2"
      },
      "source": [
        "# Importar Paquetes necesarios para trabajar\n",
        "import pandas as pd\n",
        "import math\n",
        "\n",
        "# Obtenemos los datos y los almacenamos en el dataframe wac\n",
        "wac = pd.read_excel(\"https://github.com/BrayanTorres2/Programacion-Orientada-Por-Objetos/blob/main/World_alcohol_consumption.xlsx?raw=true\")\n"
      ],
      "execution_count": null,
      "outputs": []
    },
    {
      "cell_type": "markdown",
      "metadata": {
        "id": "mS6rH9MTSCvf"
      },
      "source": [
        "### Ejercicio 01\n",
        "\n",
        "Muestre las información del dataframe `wac`"
      ]
    },
    {
      "cell_type": "code",
      "metadata": {
        "id": "WD0Ung-lS2Qs",
        "colab": {
          "base_uri": "https://localhost:8080/"
        },
        "outputId": "8eab63e9-2ea0-43ff-e7cb-c43eb43b199a"
      },
      "source": [
        "# Respuesta al Ejercicio 01\n"
      ],
      "execution_count": null,
      "outputs": [
        {
          "output_type": "stream",
          "name": "stdout",
          "text": [
            "<class 'pandas.core.frame.DataFrame'>\n",
            "RangeIndex: 100 entries, 0 to 99\n",
            "Data columns (total 5 columns):\n",
            " #   Column   Non-Null Count  Dtype  \n",
            "---  ------   --------------  -----  \n",
            " 0   Year     100 non-null    int64  \n",
            " 1   Region   100 non-null    object \n",
            " 2   Country  100 non-null    object \n",
            " 3   Type     100 non-null    object \n",
            " 4   Average  100 non-null    float64\n",
            "dtypes: float64(1), int64(1), object(3)\n",
            "memory usage: 4.0+ KB\n"
          ]
        }
      ]
    },
    {
      "cell_type": "markdown",
      "metadata": {
        "id": "wC9x8nCCS-bw"
      },
      "source": [
        "### Ejercicio 02\n",
        "\n",
        "A partir de la respuesta anterior, responda las siguientes preguntas:\n",
        "\n",
        "* ¿Cuántas y cuáles columnas son numéricas en el dataframe?\n",
        "* ¿Cuántas filas tiene el dataframe?"
      ]
    },
    {
      "cell_type": "markdown",
      "metadata": {
        "id": "zYn37jUKTRdr"
      },
      "source": [
        "> Escriba aquí la respuesta a las preguntas anteriores:\n",
        "1. 2 columnas, Year y Average\n",
        "2. 100 filas"
      ]
    },
    {
      "cell_type": "markdown",
      "metadata": {
        "id": "iYshf-QpTWIh"
      },
      "source": [
        "### Ejercicio 03\n",
        "\n",
        "Escriba un programa en python con Pandas que muestre las 10 primeras filas del dataframe"
      ]
    },
    {
      "cell_type": "code",
      "metadata": {
        "id": "xEKe2iIRTi_V",
        "colab": {
          "base_uri": "https://localhost:8080/"
        },
        "outputId": "372edacb-5f21-428f-c2de-1893be9677fe"
      },
      "source": [
        "# Respuesta al ejercicio 03\n"
      ],
      "execution_count": null,
      "outputs": [
        {
          "output_type": "stream",
          "text": [
            "   Year           Region                Country     Type  Average\n",
            "0  1986  Western Pacific               Viet Nam     Wine     0.00\n",
            "1  1986         Americas                Uruguay    Other     0.50\n",
            "2  1985           Africa           Cte d'Ivoire     Wine     1.62\n",
            "3  1986         Americas               Colombia     Beer     4.27\n",
            "4  1987         Americas  Saint Kitts and Nevis     Beer     1.98\n",
            "5  1987         Americas              Guatemala    Other     0.00\n",
            "6  1987           Africa              Mauritius     Wine     0.13\n",
            "7  1985           Africa                 Angola  Spirits     0.39\n",
            "8  1986         Americas    Antigua and Barbuda  Spirits     1.55\n",
            "9  1984           Africa                Nigeria    Other     6.10\n"
          ],
          "name": "stdout"
        }
      ]
    },
    {
      "cell_type": "markdown",
      "metadata": {
        "id": "ibjvqvfdTkLS"
      },
      "source": [
        "### Ejercicio 04\n",
        "\n",
        "Escriba el programa en python con Pandas que muestre los registros del dataframe del año 1984 cuya región sea Africa o Americas."
      ]
    },
    {
      "cell_type": "code",
      "metadata": {
        "id": "hoK2WIK_UAfr",
        "colab": {
          "base_uri": "https://localhost:8080/"
        },
        "outputId": "d9d0d76a-41b3-4ee8-a78b-f235cf2cc13f"
      },
      "source": [
        "# Respuesta al ejercicio 04\n",
        "\n"
      ],
      "execution_count": null,
      "outputs": [
        {
          "output_type": "stream",
          "text": [
            "    Year    Region            Country     Type  Average\n",
            "9   1984    Africa            Nigeria    Other     6.10\n",
            "16  1984  Americas         Costa Rica     Wine     0.06\n",
            "19  1984    Africa              Kenya     Beer     1.08\n",
            "54  1984  Americas        El Salvador  Spirits     1.81\n",
            "95  1984    Africa              Niger    Other     0.00\n",
            "98  1984    Africa  Equatorial Guinea     Wine     0.00\n"
          ],
          "name": "stdout"
        }
      ]
    },
    {
      "cell_type": "markdown",
      "metadata": {
        "id": "jiP4bv2uUYVY"
      },
      "source": [
        "### Ejercicio 05\n",
        "\n",
        "Escriba en python con Pandas un programa que encuentre y muestre cuantos países en Africa consumen cerveza (Type = Beer)."
      ]
    },
    {
      "cell_type": "code",
      "metadata": {
        "id": "iCNi_sxkU64N",
        "colab": {
          "base_uri": "https://localhost:8080/"
        },
        "outputId": "d7559ee0-2ae9-4247-d35a-4a96c5e3798f"
      },
      "source": [
        "# Respuestas al ejercicio 05\n",
        "\n"
      ],
      "execution_count": null,
      "outputs": [
        {
          "output_type": "stream",
          "text": [
            "7\n"
          ],
          "name": "stdout"
        }
      ]
    },
    {
      "cell_type": "markdown",
      "metadata": {
        "id": "NN-WfInOVHEb"
      },
      "source": [
        "### Ejercicio 06\n",
        "\n",
        "Escriba en Pandas la expresión para saber los tipos de bebida que se consumieron en Colombia entre los años 1984 a 1986."
      ]
    },
    {
      "cell_type": "code",
      "metadata": {
        "id": "PfaLmICNVjhb",
        "colab": {
          "base_uri": "https://localhost:8080/"
        },
        "outputId": "f4397361-056e-445d-9c26-0b21a6c327a4"
      },
      "source": [
        "# Respuesta al ejercicio 06\n",
        "\n"
      ],
      "execution_count": null,
      "outputs": [
        {
          "output_type": "stream",
          "text": [
            "3    Beer\n",
            "Name: Type, dtype: object\n"
          ],
          "name": "stdout"
        }
      ]
    },
    {
      "cell_type": "markdown",
      "metadata": {
        "id": "5aq_jZU8V2QH"
      },
      "source": [
        "### Ejercicio 07\n",
        "\n",
        "Escriba en Pandas la expresión para conocer la suma del promedio anual de consumo (**Average**) de los países de Europa (**Region** == `'Europe'`) del año 1985"
      ]
    },
    {
      "cell_type": "code",
      "metadata": {
        "id": "fpL-WLx7WZKG",
        "colab": {
          "base_uri": "https://localhost:8080/"
        },
        "outputId": "3ae5e14b-298b-48f0-af9b-fccc33998243"
      },
      "source": [
        "# Respuesta al ejercicio 07\n",
        "\n"
      ],
      "execution_count": null,
      "outputs": [
        {
          "output_type": "stream",
          "text": [
            "14.64\n"
          ],
          "name": "stdout"
        }
      ]
    },
    {
      "cell_type": "markdown",
      "metadata": {
        "id": "Ijr_Qrt1WnS3"
      },
      "source": [
        "### Ejercicio 08\n",
        "\n",
        "Escriba en Pandas la expresión para conocer los nombres de los países de Europa donde el consumo promedio de cerveza es superior o igual a 4.0 (Tenga el cuenta el Type, la Region y el Average)"
      ]
    },
    {
      "cell_type": "code",
      "metadata": {
        "id": "edB9hyVOW_UH",
        "colab": {
          "base_uri": "https://localhost:8080/"
        },
        "outputId": "68f52c95-9214-44f4-acab-21636e654c9d"
      },
      "source": [
        "# Respuesta al ejercicio 08\n",
        "\n"
      ],
      "execution_count": null,
      "outputs": [
        {
          "output_type": "execute_result",
          "data": {
            "text/plain": [
              "41    Czech Republic\n",
              "91          Bulgaria\n",
              "Name: Country, dtype: object"
            ]
          },
          "metadata": {
            "tags": []
          },
          "execution_count": 21
        }
      ]
    },
    {
      "cell_type": "markdown",
      "metadata": {
        "id": "7YtvxKYEXNzk"
      },
      "source": [
        "### Ejercicio 09\n",
        "\n",
        "Escriba en pandas la expresión para agrupar por región y dar la suma de los promedios de consumo"
      ]
    },
    {
      "cell_type": "code",
      "metadata": {
        "id": "F7ozmpqAXsZX",
        "colab": {
          "base_uri": "https://localhost:8080/"
        },
        "outputId": "e15ec751-9076-42d4-b3c5-35d6871eb259"
      },
      "source": [
        "# Respuesta al ejercicio 09\n",
        "\n"
      ],
      "execution_count": null,
      "outputs": [
        {
          "output_type": "execute_result",
          "data": {
            "text/plain": [
              "Region\n",
              "Africa                   21.12\n",
              "Americas                 25.73\n",
              "Eastern Mediterranean     3.44\n",
              "Europe                   54.23\n",
              "South-East Asia           0.00\n",
              "Western Pacific           0.27\n",
              "Name: Average, dtype: float64"
            ]
          },
          "metadata": {
            "tags": []
          },
          "execution_count": 22
        }
      ]
    },
    {
      "cell_type": "markdown",
      "metadata": {
        "id": "K6gG70g3XyUA"
      },
      "source": [
        "### Ejercicio 10\n",
        "\n",
        "Escriba en Pandas una expresión donde agrupemos por año y por tipo y que cuente el número de países en cada grupo"
      ]
    },
    {
      "cell_type": "code",
      "metadata": {
        "id": "Xh-k1sXCYKj6",
        "colab": {
          "base_uri": "https://localhost:8080/"
        },
        "outputId": "ce6d4d69-730c-4bb4-f344-8fdf58929325"
      },
      "source": [
        "# Respuesta al ejercicio 10\n",
        "\n"
      ],
      "execution_count": null,
      "outputs": [
        {
          "output_type": "execute_result",
          "data": {
            "text/plain": [
              "Year  Type   \n",
              "1984  Beer       4\n",
              "      Other      4\n",
              "      Spirits    6\n",
              "      Wine       4\n",
              "1985  Beer       2\n",
              "      Other      7\n",
              "      Spirits    5\n",
              "      Wine       6\n",
              "1986  Beer       3\n",
              "      Other      7\n",
              "      Spirits    5\n",
              "      Wine       8\n",
              "1987  Beer       6\n",
              "      Other      6\n",
              "      Spirits    4\n",
              "      Wine       5\n",
              "1989  Beer       9\n",
              "      Other      4\n",
              "      Spirits    1\n",
              "      Wine       4\n",
              "Name: Country, dtype: int64"
            ]
          },
          "metadata": {
            "tags": []
          },
          "execution_count": 28
        }
      ]
    }
  ]
}