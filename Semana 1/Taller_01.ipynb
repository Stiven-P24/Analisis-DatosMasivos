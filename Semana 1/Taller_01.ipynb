{
  "nbformat": 4,
  "nbformat_minor": 0,
  "metadata": {
    "kernelspec": {
      "display_name": "Python 3",
      "language": "python",
      "name": "python3"
    },
    "language_info": {
      "codemirror_mode": {
        "name": "ipython",
        "version": 3
      },
      "file_extension": ".py",
      "mimetype": "text/x-python",
      "name": "python",
      "nbconvert_exporter": "python",
      "pygments_lexer": "ipython3",
      "version": "3.7.7"
    },
    "colab": {
      "name": "Taller_01.ipynb",
      "provenance": []
    }
  },
  "cells": [
    {
      "cell_type": "markdown",
      "metadata": {
        "id": "eNxN2vxtYHLW"
      },
      "source": [
        "<h1 align=\"center\">Taller 01 - Programación Básica en Python</h1>\n",
        "\n",
        "Para los siguientes ejercicios realice el modelaje y el programa en Python que soluciona el problema en cuestión."
      ]
    },
    {
      "cell_type": "markdown",
      "metadata": {
        "id": "DQjvFApcYHLd"
      },
      "source": [
        "## Ejercicio 01\n",
        "\n",
        "Realice el modelaje y el programa en Python que resuelva el siguiente problema:\n",
        "\n",
        "> Una tienda de licores compra a su distribuidor cajas de vino que luego vende por botellas. Dado una caja de vino que tiene un costo $c$ y contiene \n",
        "> $n$ botellas, se desea calcular el precio $p$ al que se debe vender cada botella, de manera tal que se obtenga un 30% de utilidad sobre el costo \n",
        "> total de las caja."
      ]
    },
    {
      "cell_type": "markdown",
      "metadata": {
        "id": "0pOS-3OoYHLe"
      },
      "source": [
        "### Modelaje\n",
        "\n",
        "**Datos de Entrada:**\n",
        "\n",
        "Nombre | Identificador | Tipo\n",
        "---|---|---\n",
        "\n",
        "\n",
        "**Datos de Salida:**\n",
        "\n",
        "Nombre | Identificador | Tipo\n",
        "---|---|---"
      ]
    },
    {
      "cell_type": "code",
      "metadata": {
        "id": "T1JOFv7tYHLe"
      },
      "source": [
        "# Programa en Python que resuelve el Ejercicio 01\n",
        "\n",
        "# 1. Leer los datos de entrada\n",
        "\n",
        "# 2. Calcular los datos de salida\n",
        "\n",
        "# 3. Mostrar los datos de salida\n"
      ],
      "execution_count": null,
      "outputs": []
    },
    {
      "cell_type": "markdown",
      "metadata": {
        "id": "JOtyq3p7YHLf"
      },
      "source": [
        "---"
      ]
    },
    {
      "cell_type": "markdown",
      "metadata": {
        "id": "G7u5vo-IYHLg"
      },
      "source": [
        "## Ejercicio 02\n",
        "\n",
        "Relice el modelaje y el programa en Python que resuelve el siguiente problema:\n",
        "\n",
        "> Se sabe que un profesor universitario contratado como catedrático, dedica una hora a\n",
        "> preparar una clase de dos horas y por cada cuatro horas de clase desarrolladas hace una\n",
        "> evaluación, la cual le toma dos horas calificar. Si al docente se le asigna un curso de $n$ horas\n",
        "> al semestre, ¿cuántas horas trabajará en total?"
      ]
    },
    {
      "cell_type": "markdown",
      "metadata": {
        "id": "a_fV0UJDYHLh"
      },
      "source": [
        "### Modelaje\n",
        "\n",
        "**Datos de Entrada:**\n",
        "\n",
        "Nombre | Identificador | Tipo\n",
        "---|---|---\n",
        "\n",
        "\n",
        "**Datos de Salida:**\n",
        "\n",
        "Nombre | Identificador | Tipo\n",
        "---|---|---"
      ]
    },
    {
      "cell_type": "code",
      "metadata": {
        "id": "h7xn_S0MYHLh"
      },
      "source": [
        "# Programa en Python que resuelve el Ejercicio 02\n",
        "\n",
        "# 1. Leer los datos de entrada\n",
        "\n",
        "# 2. Calcular los datos de salida\n",
        "\n",
        "# 3. Mostrar los datos de salida\n"
      ],
      "execution_count": null,
      "outputs": []
    },
    {
      "cell_type": "markdown",
      "metadata": {
        "id": "YSOG3q8OYHLh"
      },
      "source": [
        "---"
      ]
    },
    {
      "cell_type": "markdown",
      "metadata": {
        "id": "YzY_5NR0YHLi"
      },
      "source": [
        "## Ejercicio 03\n",
        "\n",
        "Relice el modelaje y el programa en Python que resuelve el siguiente problema:\n",
        "\n",
        "> Un profesor diseña un examen con $n$ preguntas, estima que para calificar cada\n",
        "> pregunta requiere $m$ minutos. Si el examen se aplica a $m$ estudiantes, cuánto\n",
        "> tiempo (horas y minutos) necesita para calificar todos los exámenes."
      ]
    },
    {
      "cell_type": "markdown",
      "metadata": {
        "id": "YfYl7V9OYHLi"
      },
      "source": [
        "### Modelaje\n",
        "\n",
        "**Datos de Entrada:**\n",
        "\n",
        "Nombre | Identificador | Tipo\n",
        "---|---|---\n",
        "\n",
        "\n",
        "**Datos de Salida:**\n",
        "\n",
        "Nombre | Identificador | Tipo\n",
        "---|---|---"
      ]
    },
    {
      "cell_type": "code",
      "metadata": {
        "id": "OFoJWdIyYHLi"
      },
      "source": [
        "# Programa en Python que resuelve el Ejercicio 03\n",
        "\n",
        "# 1. Leer los datos de entrada\n",
        "\n",
        "# 2. Calcular los datos de salida\n",
        "\n",
        "# 3. Mostrar los datos de salida\n"
      ],
      "execution_count": null,
      "outputs": []
    },
    {
      "cell_type": "markdown",
      "metadata": {
        "id": "IEvygdAiYHLi"
      },
      "source": [
        "---"
      ]
    },
    {
      "cell_type": "markdown",
      "metadata": {
        "id": "a3VfHWTcYHLj"
      },
      "source": [
        "## Ejercicio 04\n",
        "\n",
        "Realice el modelaje y el programa en Python que resuelva el siguiente problema:\n",
        "\n",
        "> Tres personas deciden invertir su dinero para fundar una empresa. Cada una de ellas\n",
        "> invierte una cantidad distinta. Obtener el porcentaje que cada cual invierte con\n",
        "> respecto a la cantidad total invertida."
      ]
    },
    {
      "cell_type": "markdown",
      "metadata": {
        "id": "4g4XV165YHLj"
      },
      "source": [
        "### Modelaje\n",
        "\n",
        "**Datos de Entrada:**\n",
        "\n",
        "Nombre | Identificador | Tipo\n",
        "---|---|---\n",
        "\n",
        "\n",
        "**Datos de Salida:**\n",
        "\n",
        "Nombre | Identificador | Tipo\n",
        "---|---|---"
      ]
    },
    {
      "cell_type": "code",
      "metadata": {
        "id": "tTjA1Z4BYHLj"
      },
      "source": [
        "# Programa en Python que resuelve el Ejercicio 04\n",
        "\n",
        "# 1. Leer los datos de entrada\n",
        "\n",
        "# 2. Calcular los datos de salida\n",
        "\n",
        "# 3. Mostrar los datos de salida\n"
      ],
      "execution_count": null,
      "outputs": []
    },
    {
      "cell_type": "markdown",
      "metadata": {
        "id": "lW8DImOGYHLk"
      },
      "source": [
        "---"
      ]
    },
    {
      "cell_type": "markdown",
      "metadata": {
        "id": "NpINU3o0YHLk"
      },
      "source": [
        "## Ejercicio 05\n",
        "\n",
        "Realice el modelaje y el programa en Python que resuelva el siguiente problema:\n",
        "\n",
        "> Un estudiante desea saber cuál será su calificación final en Programación. Dicha\n",
        "> calificación se compone del promedio de tres notas parciales. Cada nota parcial se\n",
        "> obtiene a partir de un taller, una evaluación teórica y una evaluación práctica. Los\n",
        "> talleres equivalen al 25% de la nota del parcial, las evaluaciones teóricas al 35% y las\n",
        "> evaluaciones prácticas al 40%."
      ]
    },
    {
      "cell_type": "markdown",
      "metadata": {
        "id": "3I5XNUeSYHLk"
      },
      "source": [
        "### Modelaje\n",
        "\n",
        "**Datos de Entrada:**\n",
        "\n",
        "Nombre | Identificador | Tipo\n",
        "---|---|---\n",
        "\n",
        "\n",
        "**Datos de Salida:**\n",
        "\n",
        "Nombre | Identificador | Tipo\n",
        "---|---|---"
      ]
    },
    {
      "cell_type": "code",
      "metadata": {
        "id": "Aktm-_O3YHLk"
      },
      "source": [
        "# Programa en Python que resuelve el Ejercicio 05\n",
        "\n",
        "# 1. Leer los datos de entrada\n",
        "\n",
        "# 2. Calcular los datos de salida\n",
        "\n",
        "# 3. Mostrar los datos de salida\n"
      ],
      "execution_count": null,
      "outputs": []
    },
    {
      "cell_type": "markdown",
      "metadata": {
        "id": "gsTfNCWpYHLl"
      },
      "source": [
        "---"
      ]
    },
    {
      "cell_type": "markdown",
      "metadata": {
        "id": "0cpIdGmPYHLl"
      },
      "source": [
        "## Ejercicio 06\n",
        "\n",
        "Realice el modelaje y el programa en Python que resuelve el siguiente problema:\n",
        "\n",
        "> Leer un número entero de cuatro dígitos y separar sus dígitos en: miles, centenas, decenas y unidades."
      ]
    },
    {
      "cell_type": "markdown",
      "metadata": {
        "id": "v7o_H3GcYHLl"
      },
      "source": [
        "### Modelaje\n",
        "\n",
        "**Datos de Entrada:**\n",
        "\n",
        "Nombre | Identificador | Tipo\n",
        "---|---|---\n",
        "\n",
        "\n",
        "**Datos de Salida:**\n",
        "\n",
        "Nombre | Identificador | Tipo\n",
        "---|---|---"
      ]
    },
    {
      "cell_type": "code",
      "metadata": {
        "id": "lDf_iVecYHLl"
      },
      "source": [
        "# Programa en Python que resuelve el Ejercicio 06\n",
        "\n",
        "# 1. Leer los datos de entrada\n",
        "\n",
        "# 2. Calcular los datos de salida\n",
        "\n",
        "# 3. Mostrar los datos de salida\n"
      ],
      "execution_count": null,
      "outputs": []
    },
    {
      "cell_type": "markdown",
      "metadata": {
        "id": "-ZrzR23MYHLl"
      },
      "source": [
        "---"
      ]
    },
    {
      "cell_type": "markdown",
      "metadata": {
        "id": "tpeByvtcYHLm"
      },
      "source": [
        "## Ejercicio 07\n",
        "\n",
        "Escriba el modelaje y el programa en Python que resuelva el siguiente problema:\n",
        "\n",
        "> Las utilidades de una empresa se distribuyen entre tres socios así: socio A = 40%,\n",
        "> socio B = 25% y socio C = 35%. Dada una cantidad de dinero ¿cuánto corresponderá\n",
        "> a cada uno?"
      ]
    },
    {
      "cell_type": "markdown",
      "metadata": {
        "id": "XB79WbZvYHLm"
      },
      "source": [
        "### Modelaje\n",
        "\n",
        "**Datos de Entrada:**\n",
        "\n",
        "Nombre | Identificador | Tipo\n",
        "---|---|---\n",
        "\n",
        "\n",
        "**Datos de Salida:**\n",
        "\n",
        "Nombre | Identificador | Tipo\n",
        "---|---|---"
      ]
    },
    {
      "cell_type": "code",
      "metadata": {
        "id": "C1x7Q3UZYHLm"
      },
      "source": [
        "# Programa en Python que resuelve el Ejercicio 07\n",
        "\n",
        "# 1. Leer los datos de entrada\n",
        "\n",
        "# 2. Calcular los datos de salida\n",
        "\n",
        "# 3. Mostrar los datos de salida\n"
      ],
      "execution_count": null,
      "outputs": []
    },
    {
      "cell_type": "markdown",
      "metadata": {
        "id": "aQ5_VoDOYHLm"
      },
      "source": [
        "---"
      ]
    },
    {
      "cell_type": "markdown",
      "metadata": {
        "id": "m_hqnhNHYHLm"
      },
      "source": [
        "## Ejercicio 08\n",
        "\n",
        "Realice el modelaje y el programa en Python que resuelva el siguiente problema:\n",
        "\n",
        "> Calcular el área y el perímetro de un rectángulo de altura $a$ y base $b$.\n",
        "\n",
        "![area rectangulo](https://calculo.cc/temas/temas_geometria/perimetro_area/imagenes/teoria/perim_area/rectangulo.gif)"
      ]
    },
    {
      "cell_type": "markdown",
      "metadata": {
        "id": "56xgB7AbYHLn"
      },
      "source": [
        "### Modelaje\n",
        "\n",
        "**Datos de Entrada:**\n",
        "\n",
        "Nombre | Identificador | Tipo\n",
        "---|---|---\n",
        "\n",
        "\n",
        "**Datos de Salida:**\n",
        "\n",
        "Nombre | Identificador | Tipo\n",
        "---|---|---"
      ]
    },
    {
      "cell_type": "code",
      "metadata": {
        "id": "YYOYZnKnYHLn"
      },
      "source": [
        "# Programa en Python que resuelve el Ejercicio 08\n",
        "\n",
        "# 1. Leer los datos de entrada\n",
        "\n",
        "# 2. Calcular los datos de salida\n",
        "\n",
        "# 3. Mostrar los datos de salida"
      ],
      "execution_count": null,
      "outputs": []
    },
    {
      "cell_type": "markdown",
      "metadata": {
        "id": "DMyFBm9EYHLn"
      },
      "source": [
        "---"
      ]
    },
    {
      "cell_type": "markdown",
      "metadata": {
        "id": "2_25vEzuYHLn"
      },
      "source": [
        "## Ejercicio 09\n",
        "\n",
        "Escriba el modelaje y un programa en Python que resuelva el siguiente problema:\n",
        "\n",
        "> Un vendedor recibe un 10% de comisión sobre sus ventas. Si en\n",
        "> un mes cualquiera hace tres ventas por valores diferentes ¿cuánto recibirá por\n",
        "> comisión en cada una de las ventas? y ¿cuánto en total?"
      ]
    },
    {
      "cell_type": "markdown",
      "metadata": {
        "id": "b3ZXlpEXYHLn"
      },
      "source": [
        "### Modelaje\n",
        "\n",
        "**Datos de Entrada:**\n",
        "\n",
        "Nombre | Identificador | Tipo\n",
        "---|---|---\n",
        "\n",
        "\n",
        "**Datos de Salida:**\n",
        "\n",
        "Nombre | Identificador | Tipo\n",
        "---|---|---"
      ]
    },
    {
      "cell_type": "code",
      "metadata": {
        "id": "oCa9IPGCYHLo"
      },
      "source": [
        "# Programa en Python que resuelve el Ejercicio 09\n",
        "\n",
        "# 1. Leer los datos de entrada\n",
        "\n",
        "# 2. Calcular los datos de salida\n",
        "\n",
        "# 3. Mostrar los datos de salida\n"
      ],
      "execution_count": null,
      "outputs": []
    },
    {
      "cell_type": "markdown",
      "metadata": {
        "id": "J784zx-GYHLo"
      },
      "source": [
        "---"
      ]
    },
    {
      "cell_type": "markdown",
      "metadata": {
        "id": "qiuhJpGBYHLp"
      },
      "source": [
        "## Ejercicio 10\n",
        "\n",
        "Escriba el modelaje y un programa en Python que resuelva el siguiente problema:\n",
        "\n",
        "> Una tienda vende tres tipos diferentes de productos: los productos tipo ‘A’ que cuestan cada uno 1000 pesos; los productos tipo ‘C’, que cuesta cada uno dos mil quinientos pesos y los productos tipo ‘Z’, donde cada uno cuesta tres mil pesos. Queremos que a partir del número de productos que compraron de cada tipo de producto en un día, determine el valor total recolectado por la tienda gracias a la venta de esos productos en el día."
      ]
    },
    {
      "cell_type": "markdown",
      "metadata": {
        "id": "ZLTq-NWUYHLp"
      },
      "source": [
        "### Modelaje\n",
        "\n",
        "**Datos de Entrada:**\n",
        "\n",
        "Nombre | Identificador | Tipo\n",
        "---|---|---\n",
        "\n",
        "\n",
        "**Datos de Salida:**\n",
        "\n",
        "Nombre | Identificador | Tipo\n",
        "---|---|---"
      ]
    },
    {
      "cell_type": "code",
      "metadata": {
        "id": "zI8UY-ASYHLp"
      },
      "source": [
        "# Programa en Python que resuelve el Ejercicio 10\n",
        "\n",
        "# 1. Leer los datos de entrada\n",
        "\n",
        "# 2. Calcular los datos de salida\n",
        "\n",
        "# 3. Mostrar los datos de salida\n"
      ],
      "execution_count": null,
      "outputs": []
    },
    {
      "cell_type": "markdown",
      "metadata": {
        "id": "J1nzY6RwYHLq"
      },
      "source": [
        "---"
      ]
    },
    {
      "cell_type": "markdown",
      "metadata": {
        "id": "EUGivc_RYHLq"
      },
      "source": [
        "## Ejercicio 11\n",
        "\n",
        "Solucione el mismo problema del Ejercicio 10, pero construya una función que resuelva el problema y luego **use la función** en el programa."
      ]
    },
    {
      "cell_type": "markdown",
      "metadata": {
        "id": "tF0SMvZwYHLq"
      },
      "source": [
        "### Modelaje de la función\n",
        "\n",
        "**Datos de Entrada:**\n",
        "\n",
        "Nombre | Identificador | Tipo\n",
        "---|---|---\n",
        "\n",
        "\n",
        "**Datos de Salida:**\n",
        "\n",
        "Nombre | Identificador | Tipo\n",
        "---|---|---"
      ]
    },
    {
      "cell_type": "code",
      "metadata": {
        "id": "4f0rXwOsYHLq"
      },
      "source": [
        "# Definición de la función\n",
        "def nombre(datos de entrada)->datos de salida:\n",
        "    # Calcular los datos de salida\n",
        "    return datos de salida\n",
        "    "
      ],
      "execution_count": null,
      "outputs": []
    },
    {
      "cell_type": "code",
      "metadata": {
        "id": "oFQNTm8nYHLq"
      },
      "source": [
        "# Programa en Python que resuelve el Ejercicio 11\n",
        "\n",
        "# 1. Leer los datos de entrada\n",
        "\n",
        "# 2. Calcular los datos de salida, USANDO LA FUNCIÓN\n",
        "\n",
        "# 3. Mostrar los datos de salida\n"
      ],
      "execution_count": null,
      "outputs": []
    },
    {
      "cell_type": "markdown",
      "metadata": {
        "id": "hwy3ttIYYHLq"
      },
      "source": [
        "---"
      ]
    },
    {
      "cell_type": "markdown",
      "metadata": {
        "id": "Bz0Ec3YjYHLr"
      },
      "source": [
        "## Ejercicio 12\n",
        "\n",
        "Utilizando funciones, escribe el modelaje y un programa en Python que permita obtener el área lateral ($A_L$), el área total ($A_T$) y el volumen de un cono, a partir del valor de la generatriz ($g$), el radio de la base ($r$) y la altura ($h$) del cono. Las fórmulas se presentan en la siguiente figura:\n",
        "\n",
        "![Un cono](https://cuerpossolidosgeometricos1.files.wordpress.com/2012/03/areacono1.jpg?w=300&h=243)"
      ]
    },
    {
      "cell_type": "markdown",
      "metadata": {
        "id": "qNo36n3ZYHLr"
      },
      "source": [
        "## Modelaje de la función que halla el Área Lateral\n",
        "\n",
        "**Datos de Entrada:**\n",
        "\n",
        "Nombre | Identificador | Tipo\n",
        "---|---|---\n",
        "\n",
        "\n",
        "**Datos de Salida:**\n",
        "\n",
        "Nombre | Identificador | Tipo\n",
        "---|---|---"
      ]
    },
    {
      "cell_type": "code",
      "metadata": {
        "id": "fAvzL6dzYHLr"
      },
      "source": [
        "# Si queremos usar pi, debemos incluir esta librería\n",
        "import math\n",
        "\n",
        "# Función que permite encontrar el área lateral del cono\n",
        "def ..."
      ],
      "execution_count": null,
      "outputs": []
    },
    {
      "cell_type": "markdown",
      "metadata": {
        "id": "z7CZ8HVVYHLr"
      },
      "source": [
        "## Modelaje de la función que halla el Área Total\n",
        "\n",
        "**Datos de Entrada:**\n",
        "\n",
        "Nombre | Identificador | Tipo\n",
        "---|---|---\n",
        "\n",
        "\n",
        "**Datos de Salida:**\n",
        "\n",
        "Nombre | Identificador | Tipo\n",
        "---|---|---"
      ]
    },
    {
      "cell_type": "code",
      "metadata": {
        "id": "9fyiA_SXYHLs"
      },
      "source": [
        "# Función que permite encontrar el área total del cono (puede usarse la función anterior)\n",
        "def ....\n"
      ],
      "execution_count": null,
      "outputs": []
    },
    {
      "cell_type": "markdown",
      "metadata": {
        "id": "qjEVsAeWYHLs"
      },
      "source": [
        "## Modelaje de la función que halla el Volumen\n",
        "\n",
        "**Datos de Entrada:**\n",
        "\n",
        "Nombre | Identificador | Tipo\n",
        "---|---|---\n",
        "\n",
        "\n",
        "**Datos de Salida:**\n",
        "\n",
        "Nombre | Identificador | Tipo\n",
        "---|---|---"
      ]
    },
    {
      "cell_type": "code",
      "metadata": {
        "id": "1AAtdKxMYHLs"
      },
      "source": [
        "# Función que permite encontrar el volumen del cono\n",
        "def ....\n"
      ],
      "execution_count": null,
      "outputs": []
    },
    {
      "cell_type": "markdown",
      "metadata": {
        "id": "y_w0LzEYYHLs"
      },
      "source": [
        "## Modelaje del programa que resuelve el problema\n",
        "\n",
        "**Datos de Entrada:**\n",
        "\n",
        "Nombre | Identificador | Tipo\n",
        "---|---|---\n",
        "\n",
        "\n",
        "**Datos de Salida:**\n",
        "\n",
        "Nombre | Identificador | Tipo\n",
        "---|---|---"
      ]
    },
    {
      "cell_type": "code",
      "metadata": {
        "id": "R99twbrJYHLs"
      },
      "source": [
        "# Programa en Python que resuelve el Ejercicio 12\n",
        "\n",
        "# 1. Leer los datos de entrada\n",
        "\n",
        "# 2. Calcular los datos de salida, USANDO LAS 3 FUNCIONES ANTERIORES\n",
        "\n",
        "# 3. Mostrar los datos de salida\n"
      ],
      "execution_count": null,
      "outputs": []
    },
    {
      "cell_type": "markdown",
      "metadata": {
        "id": "kw7q3pS8YHLs"
      },
      "source": [
        "---"
      ]
    },
    {
      "cell_type": "markdown",
      "metadata": {
        "id": "2uWZMiHhYHLt"
      },
      "source": [
        "## Ejercicio 13\n",
        "\n",
        "Una empresa constructora vende terrenos con la forma a continuación:\n",
        "\n",
        "![Ejercicio2](https://bit.ly/EAN190201)\n",
        "\n",
        "Realice el modelaje, una serie de funciones y el programa en Python que permita obtener el área y perímetro del respectivo terreno. \n",
        "\n",
        "Comencemos por realizar una serie de funciones que más tarde utilizaremos en el programa.\n",
        "\n",
        "Primero una función que halle el área del rectángulo."
      ]
    },
    {
      "cell_type": "markdown",
      "metadata": {
        "id": "pZvWDkAUYHLt"
      },
      "source": [
        "\n",
        "\n",
        "## Modelaje de la función que encuentra el área y el perímetro de un rectángulo\n",
        "\n",
        "**Datos de Entrada:**\n",
        "\n",
        "Nombre | Identificador | Tipo\n",
        "---|---|---\n",
        "\n",
        "\n",
        "**Datos de Salida:**\n",
        "\n",
        "Nombre | Identificador | Tipo\n",
        "---|---|---"
      ]
    },
    {
      "cell_type": "code",
      "metadata": {
        "id": "lyH6EFOuYHLt"
      },
      "source": [
        "# Definición de la función que encuentra el área y el perímetro de un rectángulo\n",
        "def ...\n"
      ],
      "execution_count": null,
      "outputs": []
    },
    {
      "cell_type": "markdown",
      "metadata": {
        "id": "rJCIN9TEYHLt"
      },
      "source": [
        "## Modelaje de la función que encuentra la hipotenusa de un triángulo rectangulo a partir de los catetos\n",
        "\n",
        "**Datos de Entrada:**\n",
        "\n",
        "Nombre | Identificador | Tipo\n",
        "---|---|---\n",
        "\n",
        "\n",
        "**Datos de Salida:**\n",
        "\n",
        "Nombre | Identificador | Tipo\n",
        "---|---|---"
      ]
    },
    {
      "cell_type": "code",
      "metadata": {
        "id": "Gzzwicu0YHLt"
      },
      "source": [
        "# Definición de la función que encuentra la hipotenusa del tríángulo rectángulo\n",
        "def ...\n"
      ],
      "execution_count": null,
      "outputs": []
    },
    {
      "cell_type": "markdown",
      "metadata": {
        "id": "zv2hICqXYHLt"
      },
      "source": [
        "## Modelaje de la función que encuentra el área y el perímetro de un triángulo rectángulo conociendo los 2 catetos\n",
        "\n",
        "**Datos de Entrada:**\n",
        "\n",
        "Nombre | Identificador | Tipo\n",
        "---|---|---\n",
        "\n",
        "\n",
        "**Datos de Salida:**\n",
        "\n",
        "Nombre | Identificador | Tipo\n",
        "---|---|---"
      ]
    },
    {
      "cell_type": "code",
      "metadata": {
        "id": "FuHGJqueYHLu"
      },
      "source": [
        "# Función que encuentra el área y perímetro de un triángulo rectángulo a partir de los dos catetos\n",
        "# Debe usar la función anterior para encontrar el tercer lado del triángulo\n",
        "def ...\n"
      ],
      "execution_count": null,
      "outputs": []
    },
    {
      "cell_type": "markdown",
      "metadata": {
        "id": "_7XIUHtcYHLu"
      },
      "source": [
        "## Modelaje de la función que encuentra el área y el perímetro del terreno, a partir de los datos que vemos en la figura\n",
        "\n",
        "**Datos de Entrada:**\n",
        "\n",
        "Nombre | Identificador | Tipo\n",
        "---|---|---\n",
        "\n",
        "\n",
        "**Datos de Salida:**\n",
        "\n",
        "Nombre | Identificador | Tipo\n",
        "---|---|---"
      ]
    },
    {
      "cell_type": "code",
      "metadata": {
        "id": "DKsvkAflYHLu"
      },
      "source": [
        "# Programa en Python que resuelve el Ejercicio 13\n",
        "\n",
        "# 1. Leer los datos de entrada\n",
        "\n",
        "# 2. Calcular los datos de salida, USANDO LAS FUNCIONES ANTERIORES (OJO, No necesita usar la de hipotenusa aquí)\n",
        "\n",
        "# 3. Mostrar los datos de salida\n"
      ],
      "execution_count": null,
      "outputs": []
    },
    {
      "cell_type": "markdown",
      "metadata": {
        "id": "YxWA1gy4YHLu"
      },
      "source": [
        "---"
      ]
    },
    {
      "cell_type": "markdown",
      "metadata": {
        "id": "86qxiuAhYHLv"
      },
      "source": [
        "## Ejercicio 14\n",
        "\n",
        "Todo punto del eje cartesiano está descrito por dos elementos: su coordenada $x$ (o «abscisa») y su coordenada $y$ (que también se llama la «ordenada»). Suponga que tenemos las coordenadas $x$ y $y$ de dos puntos: $x_1$ y $y_1$ para el primer punto, y también $x_2$ y $y_2$ para el segundo punto. Queremos encontrar la distancia entre esos dos puntos, pero también la pendiente de la recta que une esos dos puntos, y finalmente, las coordenadas del punto medio entre esos dos puntos.\n",
        "\n",
        "![Dos punto](https://i2.wp.com/www.celeberrima.com/wp-content/uploads/2018/11/Distancia-entre-dos-puntos-geometr%C3%ADa-anal%C3%ADtica-%E2%80%93-F%C3%B3rmula-y-ejemplos.jpg?resize=768%2C551&ssl=1)\n",
        "\n",
        "La distancia se obtiene con la siguiente fórmula:\n",
        "\n",
        "$$\n",
        "d = \\sqrt{(y_2-y_1)^2 + (x_2-x_1)^2}\n",
        "$$\n",
        "\n",
        "La pendiente ($m$) de la recta que une los dos puntos se halla a partir de la siguiente fórmula:\n",
        "\n",
        "$$\n",
        "m = \\frac{y_2-y_1}{x_2-x_1}\n",
        "$$\n",
        "\n",
        "Y las coordenadas del punto medio se obtienen con las siguientes fórmulas:\n",
        "$$\n",
        "x_m = \\frac{x_1+x_2}{2}\\\\\n",
        "y_m = \\frac{y_1+y_2}{2}\n",
        "$$\n",
        "\n",
        "Escriba el modelaje y el programa en Python que permita obtener todos los datos solicitados a partir de las 4 coordenadas. Solucionemos este problema a partir de varias funciones."
      ]
    },
    {
      "cell_type": "markdown",
      "metadata": {
        "id": "rAlUn7cEYHLv"
      },
      "source": [
        "## Modelaje de la función que encuentra la distancia entre dos puntos. Tenga en cuenta que hay 4 datos de entrada: x1, y1, x2 y y2.\n",
        "\n",
        "**Datos de Entrada:**\n",
        "\n",
        "Nombre | Identificador | Tipo\n",
        "---|---|---\n",
        "\n",
        "\n",
        "**Datos de Salida:**\n",
        "\n",
        "Nombre | Identificador | Tipo\n",
        "---|---|---"
      ]
    },
    {
      "cell_type": "code",
      "metadata": {
        "id": "DGuHSL3YYHLv"
      },
      "source": [
        "# Para poder usar raiz cuadrada, necesitamos incluir la siguiente librería\n",
        "import math\n",
        "\n",
        "# Función que halla la distancia entre dos puntos\n",
        "def ...\n"
      ],
      "execution_count": null,
      "outputs": []
    },
    {
      "cell_type": "markdown",
      "metadata": {
        "id": "Gbj0bEzeYHLw"
      },
      "source": [
        "## Modelaje de la función que encuentra la pendiente de la recta que une a los dos puntos. También se reciben las coordenadas de los dos puntos.\n",
        "\n",
        "**Datos de Entrada:**\n",
        "\n",
        "Nombre | Identificador | Tipo\n",
        "---|---|---\n",
        "\n",
        "\n",
        "**Datos de Salida:**\n",
        "\n",
        "Nombre | Identificador | Tipo\n",
        "---|---|---"
      ]
    },
    {
      "cell_type": "code",
      "metadata": {
        "id": "DBJpNu0aYHLw"
      },
      "source": [
        "# Función que halla la pendiente de la recta entre dos puntos\n",
        "def ...\n"
      ],
      "execution_count": null,
      "outputs": []
    },
    {
      "cell_type": "markdown",
      "metadata": {
        "id": "qJspOHbcYHLw"
      },
      "source": [
        "## Modelaje de la función que encuentra las coordenadas x e y del punto medio de la recta que une dos puntos\n",
        "\n",
        "**Datos de Entrada:**\n",
        "\n",
        "Nombre | Identificador | Tipo\n",
        "---|---|---\n",
        "\n",
        "\n",
        "**Datos de Salida:**\n",
        "\n",
        "Nombre | Identificador | Tipo\n",
        "---|---|---"
      ]
    },
    {
      "cell_type": "code",
      "metadata": {
        "id": "OuJzuXKzYHLw"
      },
      "source": [
        "# Función que encuentra el punto medio de la recta que une dos puntos\n",
        "def ...\n"
      ],
      "execution_count": null,
      "outputs": []
    },
    {
      "cell_type": "markdown",
      "metadata": {
        "id": "BEinHIa6YHLw"
      },
      "source": [
        "## Modelaje del programa que soluciona el problema\n",
        "\n",
        "**Datos de Entrada:**\n",
        "\n",
        "Nombre | Identificador | Tipo\n",
        "---|---|---\n",
        "\n",
        "\n",
        "**Datos de Salida:**\n",
        "\n",
        "Nombre | Identificador | Tipo\n",
        "---|---|---"
      ]
    },
    {
      "cell_type": "code",
      "metadata": {
        "id": "mMH21G6-YHLx"
      },
      "source": [
        "# Programa en Python que resuelve el Ejercicio 14\n",
        "\n",
        "# 1. Leer los datos de entrada\n",
        "\n",
        "# 2. Calcular los datos de salida, USANDO LAS FUNCIONES ANTERIORES (OJO, TODAS LAS FUNCIONES DEBEN SER USADAS)\n",
        "\n",
        "# 3. Mostrar los datos de salida\n"
      ],
      "execution_count": null,
      "outputs": []
    },
    {
      "cell_type": "code",
      "metadata": {
        "id": "c2-zVXN9YHLx"
      },
      "source": [
        ""
      ],
      "execution_count": null,
      "outputs": []
    },
    {
      "cell_type": "markdown",
      "metadata": {
        "id": "6Nam59iSYHLx"
      },
      "source": [
        "---"
      ]
    },
    {
      "cell_type": "markdown",
      "metadata": {
        "id": "5El_CYIPYHLx"
      },
      "source": [
        "# Ejercicio 15\n",
        "\n",
        "Escriba una función que permita calcular la expansión lineal en una barra de acero a partir de un incremento en la temperatura. La fórmula para encontrar la expansión lineal (llamada $l$) es la siguiente:\n",
        "\n",
        "![Ejercicio 4](https://latex.codecogs.com/png.latex?%5Cdpi%7B200%7D%20%5Cbg_white%20%5Clarge%20l%20%3D%20l_o%5B1&plus;%5Calpha%20%28T_f%20-T_o%29%5D)\n",
        "\n",
        "Donde tenemos que:\n",
        "\n",
        "* $l_o$ es la longitud de la barra de acero a la temperatura inicial $T_o$\n",
        "* $\\alpha$ es el coeficiente de expansión lineal\n",
        "* $T_f$ es la temperatura final de la barra de acero"
      ]
    },
    {
      "cell_type": "markdown",
      "metadata": {
        "id": "eWdTKYQmYHLx"
      },
      "source": [
        "## Modelaje de la función\n",
        "\n",
        "**Datos de Entrada:**\n",
        "\n",
        "Nombre | Identificador | Tipo\n",
        "---|---|---\n",
        "\n",
        "\n",
        "**Datos de Salida:**\n",
        "\n",
        "Nombre | Identificador | Tipo\n",
        "---|---|---"
      ]
    },
    {
      "cell_type": "code",
      "metadata": {
        "id": "uHTkXoZ5YHLy"
      },
      "source": [
        "# Definición de la función que halle la expansión lineal\n",
        "def ...\n"
      ],
      "execution_count": null,
      "outputs": []
    },
    {
      "cell_type": "code",
      "metadata": {
        "id": "RTffusLhYHLy"
      },
      "source": [
        "# Escriba un programa que prueba la función anterior\n",
        "\n",
        "# Programa en Python que resuelve el Ejercicio 15\n",
        "\n",
        "# 1. Leer los datos de entrada\n",
        "\n",
        "# 2. Calcular los datos de salida, USANDO LA FUNCIÓN ANTERIOR\n",
        "\n",
        "# 3. Mostrar los datos de salida\n"
      ],
      "execution_count": null,
      "outputs": []
    },
    {
      "cell_type": "markdown",
      "metadata": {
        "id": "yM8jy9zCYHLy"
      },
      "source": [
        "---"
      ]
    },
    {
      "cell_type": "markdown",
      "metadata": {
        "id": "X-4MBOD6YHLz"
      },
      "source": [
        "## Ejercicio 16\n",
        "\n",
        "En el nuevo edificio de la universidad, cada piso tendrá el mismo número de salones y suponga que todos los salones del nuevo edificio tendrán el mismo número de pupitres, conocida como la capacidad del salón. Escriba el modelaje, una función y un programa en Python que calcule el número de salones y el número de pisos que tendrá el nuevo edificio a partir de la capacidad del salón y el número de estudiantes que van a sentarse en los pupitres de la universidad a la universidad ."
      ]
    },
    {
      "cell_type": "markdown",
      "metadata": {
        "id": "vcLZW-ZHYHLz"
      },
      "source": [
        "## Modelaje de la función\n",
        "\n",
        "**Datos de Entrada:**\n",
        "\n",
        "Nombre | Identificador | Tipo\n",
        "---|---|---\n",
        "\n",
        "\n",
        "**Datos de Salida:**\n",
        "\n",
        "Nombre | Identificador | Tipo\n",
        "---|---|---"
      ]
    },
    {
      "cell_type": "code",
      "metadata": {
        "id": "bOyU_q1tYHLz",
        "outputId": "8a2d0488-1fe1-4cac-9d59-1806a3f8aea8"
      },
      "source": [
        "import math\n",
        "\n",
        "print(math.ceil(26.1))\n",
        "print(math.floor(26.1))"
      ],
      "execution_count": null,
      "outputs": [
        {
          "output_type": "stream",
          "text": [
            "27\n",
            "26\n"
          ],
          "name": "stdout"
        }
      ]
    },
    {
      "cell_type": "code",
      "metadata": {
        "id": "tRIFc5QUYHL0"
      },
      "source": [
        "# Definición de la función\n",
        "def ...\n"
      ],
      "execution_count": null,
      "outputs": []
    },
    {
      "cell_type": "code",
      "metadata": {
        "id": "zzSDYqW_YHL1"
      },
      "source": [
        "# Escriba un programa que prueba la función anterior\n",
        "\n",
        "# Programa en Python que resuelve el Ejercicio 16\n",
        "\n",
        "# 1. Leer los datos de entrada\n",
        "\n",
        "# 2. Calcular los datos de salida, USANDO LA FUNCIÓN ANTERIOR\n",
        "\n",
        "# 3. Mostrar los datos de salida\n"
      ],
      "execution_count": null,
      "outputs": []
    }
  ]
}